{
 "cells": [
  {
   "cell_type": "code",
   "execution_count": null,
   "id": "aa8f18ea-0bdd-438e-bede-2cf75893dc68",
   "metadata": {},
   "outputs": [],
   "source": [
    "#Title:Lab:15 ELISA (Enzyme-Linked Immunosorbent Assay)"
   ]
  },
  {
   "cell_type": "code",
   "execution_count": null,
   "id": "26783c3e-7d4a-4d13-be5f-d2c4d5244b9f",
   "metadata": {},
   "outputs": [],
   "source": [
    "#Purpose: This lab experiment is a useful and sensitive technique used to detect the prescence of specific proteins,\n",
    "antibodies, or antigens in a sample. It offers a practical opportunity to engage in immunoassays, with methods that have a \n",
    "unique binding characteristics of antibodies to identify and measure specific substances in a sample. The techniques used \n",
    "such as immobilization of molecules on a solid surface, binding reactions, washing steps to remove unbound substances and \n",
    "detection methods.\n"
   ]
  },
  {
   "cell_type": "markdown",
   "id": "f99213b1-16ed-4a87-b02d-82c5063f1f11",
   "metadata": {},
   "source": [
    "#Procedure:\n",
    "\n",
    "\n",
    "  *****Remember to change pipette tips between each solution.******\n",
    " Steps:\n",
    "         *Prepare plate standards and reagents.\n",
    "\n",
    "    #1.) Coat with Antigen\n",
    "\n",
    "    #2.)  Wash\n",
    "    \n",
    "    #3.) Incubate with primary Ab   (add the sample)\n",
    "    \n",
    "    #4.) Incubate with secondary Ab (add the secondary Antibody)\n",
    "    \n",
    "    #5.) Wash\n",
    "    \n",
    "    #6.) Enzyme Rx (Stop the Enzymatic Reaction and Read the Well on a Microtiter Plate Reader\n",
    "    \n"
   ]
  },
  {
   "cell_type": "markdown",
   "id": "b5adaf00-707c-464f-bdfc-6ece113074d3",
   "metadata": {},
   "source": [
    "#Results:"
   ]
  },
  {
   "cell_type": "markdown",
   "id": "bcfa363e-c498-4d02-b0d4-433916202019",
   "metadata": {},
   "source": [
    "**Elisa is widely utilized in diagnostic laboratories to identify antibodies (e.g., for studying infectious diseases) and \n",
    "antigens (e.g., in pregnancy tests). It allows us to grasp a practical application of a technique in the real-world life\n",
    "situations.\n",
    "\n",
    "\n",
    "*** From our results the first 3 wells turned DARK blue, while the next 3 stayed clear and the next 2 after that turned LIGHT blue, and the next 2 wells were clear, following the last two turned and VERY LIGHT blue. \n",
    "\n",
    "\n",
    "\n"
   ]
  },
  {
   "cell_type": "code",
   "execution_count": null,
   "id": "32a6e33e-7d85-4303-83ef-53597e259052",
   "metadata": {},
   "outputs": [],
   "source": [
    "#Discussion: The color change in the Elisa assay results from the addition of a substrate that reacts with an enzyme linked \n",
    "to a specific antibody or antigen. The color blue development indicates a positive reaction, signifying the presence of the \n",
    "the target substance (antigen or antibody) in those wells.\n"
   ]
  },
  {
   "cell_type": "code",
   "execution_count": null,
   "id": "9f52a6af-8074-40c5-bb1d-26116f952f17",
   "metadata": {},
   "outputs": [],
   "source": [
    "#Conclusion:The wells that turned blue may contain a higher concentration of the target substance compared to wells with no\n",
    "color change.The clear wells were negative, with a sign of no antigen present. When the enzymebinds to its substrate, a reaction occurs\n",
    "to create a colored product.\n",
    "\n",
    "\n",
    "Coating: The wells of a microplate are coated with an antigen or antibody of interest. This is usually done by incubating the plate with the substance of interest, allowing it to adhere to the well surfaces.\n",
    "\n",
    "Incubation: The sample containing the protein of interest is added to the wells and allowed to incubate. If the protein is present in the sample, it will bind to the coated antigen or antibody.\n",
    "\n",
    "Washing: The plate is washed to remove any unbound or nonspecifically bound substances.\n",
    "\n",
    "Detection: A detection antibody linked to an enzyme is added. This secondary antibody binds to the protein of interest. After another round of washing, a substrate for the enzyme is added.\n",
    "\n",
    "Color Development: If the protein of interest is present, the enzyme will react with the substrate, producing a measurable color change. The intensity of the color is proportional to the amount of the protein in the sample.\n",
    "\n",
    "Measurement: The color change is quantified using a spectrophotometer, and the results are analyzed to determine the concentration of the protein in the original sample.\n",
    "\n",
    "\n",
    "\n",
    "\n",
    "\n",
    "\n",
    "\n",
    "\n",
    "\n",
    "\n"
   ]
  },
  {
   "cell_type": "code",
   "execution_count": null,
   "id": "0fb9cad6-6316-477c-aed5-0589662c6267",
   "metadata": {},
   "outputs": [],
   "source": []
  },
  {
   "cell_type": "code",
   "execution_count": null,
   "id": "76e71dc7-8d1a-480f-9244-c8692701143c",
   "metadata": {},
   "outputs": [],
   "source": []
  },
  {
   "cell_type": "code",
   "execution_count": null,
   "id": "57640929-5202-4b65-a57e-52352dcfa08f",
   "metadata": {},
   "outputs": [],
   "source": []
  },
  {
   "cell_type": "code",
   "execution_count": null,
   "id": "5bf75882-afbb-4ccb-a6c9-3ece1478459b",
   "metadata": {},
   "outputs": [],
   "source": []
  },
  {
   "cell_type": "code",
   "execution_count": null,
   "id": "4a6761ed-4c0e-4df2-a9c0-12b4923e6cc3",
   "metadata": {},
   "outputs": [],
   "source": []
  },
  {
   "cell_type": "code",
   "execution_count": null,
   "id": "29c755c6-b0e6-4034-8e9e-7cc3cb56c776",
   "metadata": {},
   "outputs": [],
   "source": []
  },
  {
   "cell_type": "code",
   "execution_count": null,
   "id": "72502f5b-195f-43dd-858f-69563aa84a91",
   "metadata": {},
   "outputs": [],
   "source": []
  }
 ],
 "metadata": {
  "kernelspec": {
   "display_name": "",
   "name": ""
  },
  "language_info": {
   "name": ""
  }
 },
 "nbformat": 4,
 "nbformat_minor": 5
}
